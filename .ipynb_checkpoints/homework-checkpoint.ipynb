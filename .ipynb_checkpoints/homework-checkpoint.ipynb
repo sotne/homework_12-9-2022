{
 "cells": [
  {
   "cell_type": "markdown",
   "id": "666f0de8",
   "metadata": {},
   "source": [
    "Exercises"
   ]
  },
  {
   "cell_type": "markdown",
   "id": "95dd2566",
   "metadata": {},
   "source": [
    "1) Create a program that allows a user to continue to add people to an address book until the user quits. Once the user quits, break out of the loop and print out the name and address of everyone in the address book"
   ]
  },
  {
   "cell_type": "code",
   "execution_count": null,
   "id": "255b858d",
   "metadata": {},
   "outputs": [],
   "source": [
    "Steps\n",
    "Create a function that will ask user for name and addresses and stores them in a dictionary\n",
    "Define an empty dictionary with which to work (global or local variable?)\n",
    "Begin a loop that will continue to ask a user for information until the user \"quits\"\n",
    "If the user does not quit, ask for a name and address and store the variables into variables\n",
    "Add information to the dictionary with name as the key and address as the value\n",
    "If the user does quit, end the loop\n",
    "Print out the information from the dictionary in a formatted way\n",
    "Execute/Call the function"
   ]
  },
  {
   "cell_type": "code",
   "execution_count": 32,
   "id": "02975ca1",
   "metadata": {},
   "outputs": [
    {
     "name": "stdout",
     "output_type": "stream",
     "text": [
      "what is full nameneyt soto\n",
      "what is the address523 dtre street\n",
      "do you wanna continue? Y/Nn\n",
      "Neyt Soto at 523 Dtre Street\n",
      "{'neyt soto': '523 dtre street'}\n"
     ]
    }
   ],
   "source": [
    "address_book = {} \n",
    "def gather_info(x): \n",
    "    while x != \"n\": \n",
    "        full_name = input('what is full name')\n",
    "        address = input ('what is the address')\n",
    "        address_book[full_name] = address\n",
    "        x = input('do you wanna continue? Y/N').lower()\n",
    "    \n",
    "gather_info('hello')\n",
    "for name, address in address_book.items():\n",
    "    print(f'{name.title()} at {address.title()}')\n",
    "print(address_book)"
   ]
  },
  {
   "cell_type": "markdown",
   "id": "3905580d",
   "metadata": {},
   "source": [
    "2) Best Time to Meet"
   ]
  },
  {
   "cell_type": "markdown",
   "id": "82b899e0",
   "metadata": {},
   "source": [
    "Billy is trying to figure out if there is a time that he and his team can meet to work on the project. His three teammates each give him a list of times they are available ('HH:MM' 24-hour). Create a function that will take in an original list plus any number of lists of teammate's available times (remember *args) and return a list of times where everyone can meet."
   ]
  },
  {
   "cell_type": "code",
   "execution_count": 4,
   "id": "6a9cd946",
   "metadata": {},
   "outputs": [],
   "source": [
    "person1 = ['09:00', '10:30', '11:30', '12:00', '13:00', '14:30']\n",
    "person2 = ['09:30', '10:00', '10:30', '12:00', '14:30', '16:00']\n",
    "person3 = ['09:00', '09:30', '11:00', '11:30', '12:00', '13:30', '14:30', '15:00']\n",
    "person4 = ['11:00', '11:30', '12:00', '14:00', '14:30', '16:30', '17:00']\n",
    "# Available Times: '12:00' and '14:30'\n"
   ]
  },
  {
   "cell_type": "code",
   "execution_count": null,
   "id": "4dd9cd8b",
   "metadata": {},
   "outputs": [],
   "source": []
  }
 ],
 "metadata": {
  "kernelspec": {
   "display_name": "Python 3 (ipykernel)",
   "language": "python",
   "name": "python3"
  },
  "language_info": {
   "codemirror_mode": {
    "name": "ipython",
    "version": 3
   },
   "file_extension": ".py",
   "mimetype": "text/x-python",
   "name": "python",
   "nbconvert_exporter": "python",
   "pygments_lexer": "ipython3",
   "version": "3.9.12"
  }
 },
 "nbformat": 4,
 "nbformat_minor": 5
}
