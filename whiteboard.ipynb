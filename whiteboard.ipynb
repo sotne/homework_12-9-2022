{
 "cells": [
  {
   "cell_type": "code",
   "execution_count": 12,
   "id": "72ecf05c",
   "metadata": {},
   "outputs": [
    {
     "name": "stdout",
     "output_type": "stream",
     "text": [
      "outage\n"
     ]
    }
   ],
   "source": [
    "#Electric Company\n",
    "#Create a function that takes a list that represents street lights given as a parameter called(l_street). Determine if an outage has occurred. \n",
    "#A street with a total number of \"F\"s greater than or equal to 2 returns \"Outage\", anything below returns \"Power\"\n",
    "\n",
    "#Example Input: [ 'T', 'F', 'F', 'F' ]\n",
    "#Example Output: \"Outage\"\n",
    "\n",
    "#Example Input: [ 'T', 'T', 'F', 'F' ]\n",
    "#Example Output: \"Outage\"\n",
    "\n",
    "#Example Input: [ 'T', 'T', 'T', 'F']\n",
    "#Example Output: \"Power\"\n",
    "    \n",
    "\n",
    "def street_lights(l_street):\n",
    "    count=0\n",
    "    #for light in lights:\n",
    "    #    if light.count() >= 2'F'\n",
    "     #       print('outage')\n",
    "    #    else:\n",
    "     #       print('power') \n",
    "    for light in l_street:\n",
    "        if light == 'F':\n",
    "            count += 1\n",
    "            if count >=2:\n",
    "                return('outage')\n",
    "    return('power')\n",
    "            \n",
    "print(street_lights(['T', 'F', 'F', 'F']))"
   ]
  },
  {
   "cell_type": "code",
   "execution_count": 15,
   "id": "31198a32",
   "metadata": {},
   "outputs": [
    {
     "data": {
      "text/plain": [
       "'outage'"
      ]
     },
     "execution_count": 15,
     "metadata": {},
     "output_type": "execute_result"
    }
   ],
   "source": [
    "def street(l_street):\n",
    "    return 'outage' if l_street.count('F') >=2 else 'Power'\n",
    "\n",
    "street([ 'T', 'T', 'F', 'F', 'T'])\n"
   ]
  },
  {
   "cell_type": "code",
   "execution_count": null,
   "id": "c5407b85",
   "metadata": {},
   "outputs": [],
   "source": []
  }
 ],
 "metadata": {
  "kernelspec": {
   "display_name": "Python 3 (ipykernel)",
   "language": "python",
   "name": "python3"
  },
  "language_info": {
   "codemirror_mode": {
    "name": "ipython",
    "version": 3
   },
   "file_extension": ".py",
   "mimetype": "text/x-python",
   "name": "python",
   "nbconvert_exporter": "python",
   "pygments_lexer": "ipython3",
   "version": "3.9.12"
  }
 },
 "nbformat": 4,
 "nbformat_minor": 5
}
