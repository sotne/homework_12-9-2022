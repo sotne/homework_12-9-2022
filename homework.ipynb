{
 "cells": [
  {
   "cell_type": "markdown",
   "id": "d0ab8ea7",
   "metadata": {},
   "source": [
    "Exercises"
   ]
  },
  {
   "cell_type": "markdown",
   "id": "010285ff",
   "metadata": {},
   "source": [
    "1) Create a program that allows a user to continue to add people to an address book until the user quits. Once the user quits, break out of the loop and print out the name and address of everyone in the address book"
   ]
  },
  {
   "cell_type": "code",
   "execution_count": null,
   "id": "c350a318",
   "metadata": {},
   "outputs": [],
   "source": [
    "Steps\n",
    "Create a function that will ask user for name and addresses and stores them in a dictionary\n",
    "Define an empty dictionary with which to work (global or local variable?)\n",
    "Begin a loop that will continue to ask a user for information until the user \"quits\"\n",
    "If the user does not quit, ask for a name and address and store the variables into variables\n",
    "Add information to the dictionary with name as the key and address as the value\n",
    "If the user does quit, end the loop\n",
    "Print out the information from the dictionary in a formatted way\n",
    "Execute/Call the function"
   ]
  },
  {
   "cell_type": "code",
   "execution_count": 43,
   "id": "ec9129cc",
   "metadata": {},
   "outputs": [
    {
     "name": "stdout",
     "output_type": "stream",
     "text": [
      "what is full nameneyt soto\n",
      "what is the address56 gfsdg street\n",
      "do you wanna continue? Y/Nn\n",
      "{}\n"
     ]
    }
   ],
   "source": [
    "address_book = {} \n",
    "def gather_info(x):  \n",
    "    while x != \"n\": \n",
    "        full_name = input('what is full name')\n",
    "        address = input ('what is the address')\n",
    "        address_book[full_name] = address\n",
    "        x = input('do you wanna continue? Y/N').lower()\n",
    "    \n",
    "gather_info('hello')\n",
    "for name, address in address_book.items():\n",
    "    print(f'{name.title()} at {address.title()}')\n",
    "print(address_book)"
   ]
  },
  {
   "cell_type": "markdown",
   "id": "ee00dde6",
   "metadata": {},
   "source": [
    "2) Best Time to Meet"
   ]
  },
  {
   "cell_type": "markdown",
   "id": "fc643e15",
   "metadata": {},
   "source": [
    "Billy is trying to figure out if there is a time that he and his team can meet to work on the project. His three teammates each give him a list of times they are available ('HH:MM' 24-hour). Create a function that will take in an original list plus any number of lists of teammate's available times (remember *args) and return a list of times where everyone can meet."
   ]
  },
  {
   "cell_type": "code",
   "execution_count": 5,
   "id": "46104015",
   "metadata": {},
   "outputs": [
    {
     "name": "stdout",
     "output_type": "stream",
     "text": [
      "{'12:00', '14:30'}\n"
     ]
    }
   ],
   "source": [
    "person1 = ['09:00', '10:30', '11:30', '12:00', '13:00', '14:30']\n",
    "person2 = ['09:30', '10:00', '10:30', '12:00', '14:30', '16:00']\n",
    "person3 = ['09:00', '09:30', '11:00', '11:30', '12:00', '13:30', '14:30', '15:00']\n",
    "person4 = ['11:00', '11:30', '12:00', '14:00', '14:30', '16:30', '17:00']\n",
    "# Available Times: '12:00' and '14:30'\n",
    "#sets\n",
    "# def available():\n",
    "#     time1=set(person1)\n",
    "#     time2=set(person2)\n",
    "#     time3=set(person3)\n",
    "#     time4=set(person4)\n",
    "#     linkup = time1 & time2 & time3 & time4\n",
    "#     return\n",
    "# print(linkup)\n",
    "def available(orig, *args):\n",
    "    set1 = set(orig)\n",
    "    for person in args:\n",
    "            set1 &= set(person)\n",
    "    return set1\n",
    "print(available(person1,person2,person3,person4))\n",
    "                \n",
    "        \n",
    "                \n",
    "    \n",
    "        \n",
    "    \n",
    "    \n"
   ]
  },
  {
   "cell_type": "code",
   "execution_count": null,
   "id": "d3f45004",
   "metadata": {},
   "outputs": [],
   "source": []
  }
 ],
 "metadata": {
  "kernelspec": {
   "display_name": "Python 3 (ipykernel)",
   "language": "python",
   "name": "python3"
  },
  "language_info": {
   "codemirror_mode": {
    "name": "ipython",
    "version": 3
   },
   "file_extension": ".py",
   "mimetype": "text/x-python",
   "name": "python",
   "nbconvert_exporter": "python",
   "pygments_lexer": "ipython3",
   "version": "3.9.12"
  }
 },
 "nbformat": 4,
 "nbformat_minor": 5
}
